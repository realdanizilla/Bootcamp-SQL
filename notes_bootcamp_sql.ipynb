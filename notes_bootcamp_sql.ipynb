{
 "cells": [
  {
   "cell_type": "markdown",
   "metadata": {},
   "source": [
    "# Bootcamp SQL\n",
    "\n",
    "## Aula 1\n",
    "\n",
    "Por que Postgres?\n",
    "- opensource - de graça\n",
    "- presente em várias empresas\n",
    "- um dos principais bancos na logica cliente-servidor\n",
    "- suporta tipos complexos como json\n",
    "\n",
    "consultar a documentação (link na aula 1 readme)\n",
    "\n",
    "Comandos principais\n",
    "- SELECT\n",
    "  - SELECT colunas ou * FROM tabela\n",
    "  - SELECT distinct coluna FROM tabela\n",
    "  - SELECT count(distinct coluna) FROM tabela\n",
    "- WHERE\n",
    "  - SELECT * FROM tabela WHERE coluna = 'valor' AND coluna2 = 'valor2'\n",
    "  - SELECT * FROM tabela WHERE coluna <> 'valor'\n",
    "  - SELECT * FROM tabela WHERE coluna = 'valor' AND (coluna2 = 'valor2' OR coluna2 = 'valor3')\n",
    "- ORDER BY\n",
    "  - SELECT * FROM tabela ORDER BY coluna1 ASC, coluna2 DESC\n",
    "  - SELECT * FROM tabela ORDER BY coluna1, coluna2\n",
    "- LIKE e IN (é pesado, poderia concatenar varias colunas em um e dar like nessa coluna quando queremos multiplos likes. O ILIKE resolve o case senstivie to LIKE)\n",
    "  - SELECT * FROM tabela WHERE coluna LIKE 'a%'\n",
    "  - SELECT * FROM tabela WHERE coluna NOT LIKE 'a%'\n",
    "  - SELECT * FROM customers WHERE coluna IN ('valor1', 'valor2', 'valor3')\n",
    "  - SELECT * FROM customers WHERE coluna LIKE '%or%'\n",
    "  - SELECT * FROM customers WHERE coluna LIKE '%_r%' (r na segunda posição, '_' significa qualquer caractere)\n",
    "  - SELECT * FROM customers WHERE coluna LIKE 'a%o' (começa com 'a' e termina com 'o')\n",
    "  - SELECT * FROM customers WHERE coluna LIKE 'a__%' (começa com 'a' e pelo menos 3 caracteres)\n",
    "- MAIS AVANÇADOS (gostinho de subquery)\n",
    "  - SELECT * FROM customers WHERE coluna IN (SELECT DISTINCT coluna from tabela)\n",
    "  - SELECT * FROM customers WHERE coluna BETWEEN 10 AND 20 (not NOT BETWEEN)\n",
    "  - SELECT TO_CHAR(data, 'DD-MM-YYY') FROM tabela WHERE order_date between '1996-04-07' and '1996-09-07' (converte data em outro formato)\n",
    "- Agregadores\n",
    "  - MIN, MAX, AVG, COUNT, SUM - normalmente usadas com GROUP BY\n",
    "  - LIMIT # (limita a qtde de resultados)"
   ]
  },
  {
   "cell_type": "markdown",
   "metadata": {},
   "source": [
    "## Aula 2\n",
    "\n",
    "Podemos ir no PGAdmin e dentro do banco na parte de Login/Group Roles podemos definir permissões de acesso\n",
    "\n",
    "- SELECT é usado para consultar dados\n",
    "- INSERT, UPDATE E DELETE norma lmente sao mais usados por engenheiros de dados e principalmente sistemas com esse tipo de acesso (por exemplo CRUD)\n",
    "- CREATE, ALTER, DROP sao mais usados por DBA e modeladores do banco\n",
    "- GRANT, REVOKE tem a ver com acesso, usado por admin do banco - tira, dá ou deleta conta\n",
    "- BEGIN, COMMIT, ROLLBACK tem a ver com transações. porém transações sempre sao um conjunto de comandos. Porém para garantir a atomicidade, colocamos os statements entre um BEGIN e um COMMIT para garantir que tudo que está entre eles rode. Caso algo dê errado no entre BEGIN e COMMIT, a transação nao acontece. Se der um erro eu posso usar o ROLLBACK para voltar, como se fosse um try/except do python\n",
    "\n",
    "Sempre trazer as colunas que precisamos, evitar usar o SELECT * pq pressiona a performance\n"
   ]
  }
 ],
 "metadata": {
  "language_info": {
   "name": "python"
  }
 },
 "nbformat": 4,
 "nbformat_minor": 2
}
